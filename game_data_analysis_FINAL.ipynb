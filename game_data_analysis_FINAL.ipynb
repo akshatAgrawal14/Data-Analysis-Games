{
  "nbformat": 4,
  "nbformat_minor": 0,
  "metadata": {
    "colab": {
      "name": "Untitled0.ipynb",
      "provenance": [],
      "collapsed_sections": [
        "u1PrL3bVq2qc",
        "El6ju8dEqocm",
        "krVjzreFyBsI",
        "x9DXkGuPhMFD",
        "QXJXNNAGW6EB",
        "sLw9PIQMLPfO",
        "Kdr1kV97cCuz",
        "2HcBDJbah-8t"
      ]
    },
    "kernelspec": {
      "name": "python3",
      "display_name": "Python 3"
    }
  },
  "cells": [
    {
      "cell_type": "code",
      "metadata": {
        "id": "q9M3uPxZomxJ",
        "colab_type": "code",
        "outputId": "08ab6c6e-35f6-40e3-c2c3-199871c45c93",
        "colab": {
          "resources": {
            "http://localhost:8080/nbextensions/google.colab/files.js": {
              "data": "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",
              "ok": true,
              "headers": [
                [
                  "content-type",
                  "application/javascript"
                ]
              ],
              "status": 200,
              "status_text": ""
            }
          },
          "base_uri": "https://localhost:8080/",
          "height": 74
        }
      },
      "source": [
        "from google.colab import files\n",
        "uploaded = files.upload()"
      ],
      "execution_count": 2,
      "outputs": [
        {
          "output_type": "display_data",
          "data": {
            "text/html": [
              "\n",
              "     <input type=\"file\" id=\"files-0e29a436-df4e-48bc-ba5e-d42badd961cb\" name=\"files[]\" multiple disabled />\n",
              "     <output id=\"result-0e29a436-df4e-48bc-ba5e-d42badd961cb\">\n",
              "      Upload widget is only available when the cell has been executed in the\n",
              "      current browser session. Please rerun this cell to enable.\n",
              "      </output>\n",
              "      <script src=\"/nbextensions/google.colab/files.js\"></script> "
            ],
            "text/plain": [
              "<IPython.core.display.HTML object>"
            ]
          },
          "metadata": {
            "tags": []
          }
        },
        {
          "output_type": "stream",
          "text": [
            "Saving appstore_games.csv to appstore_games.csv\n"
          ],
          "name": "stdout"
        }
      ]
    },
    {
      "cell_type": "markdown",
      "metadata": {
        "id": "u1PrL3bVq2qc",
        "colab_type": "text"
      },
      "source": [
        "# Importing 'pandas' and 'matplotlib'"
      ]
    },
    {
      "cell_type": "code",
      "metadata": {
        "id": "wWU4OHmRqJxQ",
        "colab_type": "code",
        "colab": {}
      },
      "source": [
        "import pandas as pd\n",
        "import matplotlib.pyplot as plt"
      ],
      "execution_count": 0,
      "outputs": []
    },
    {
      "cell_type": "markdown",
      "metadata": {
        "id": "El6ju8dEqocm",
        "colab_type": "text"
      },
      "source": [
        "# Creating the DataFrame"
      ]
    },
    {
      "cell_type": "code",
      "metadata": {
        "id": "uMhKiEQMqRti",
        "colab_type": "code",
        "colab": {}
      },
      "source": [
        "df=pd.read_csv('appstore_games.csv')"
      ],
      "execution_count": 0,
      "outputs": []
    },
    {
      "cell_type": "code",
      "metadata": {
        "id": "EL1-BnoUniqH",
        "colab_type": "code",
        "colab": {
          "base_uri": "https://localhost:8080/",
          "height": 340
        },
        "outputId": "1e222063-01ff-445f-e915-f7211cdbb6d1"
      },
      "source": [
        "# checking for number of null values in each column\n",
        "df.isnull().sum()"
      ],
      "execution_count": 98,
      "outputs": [
        {
          "output_type": "execute_result",
          "data": {
            "text/plain": [
              "URL                                 0\n",
              "ID                                  0\n",
              "Name                                0\n",
              "Subtitle                        11746\n",
              "Icon URL                            0\n",
              "Average User Rating              9446\n",
              "User Rating Count                9446\n",
              "Price                              24\n",
              "In-app Purchases                 9324\n",
              "Description                         0\n",
              "Developer                           0\n",
              "Age Rating                          0\n",
              "Languages                          60\n",
              "Size                                1\n",
              "Primary Genre                       0\n",
              "Genres                              0\n",
              "Original Release Date               0\n",
              "Current Version Release Date        0\n",
              "dtype: int64"
            ]
          },
          "metadata": {
            "tags": []
          },
          "execution_count": 98
        }
      ]
    },
    {
      "cell_type": "code",
      "metadata": {
        "id": "gW29u-2QrbcA",
        "colab_type": "code",
        "outputId": "f3652557-c756-466e-c162-e14ca47a99d6",
        "colab": {
          "base_uri": "https://localhost:8080/",
          "height": 34
        }
      },
      "source": [
        "#Filtering the dataset\n",
        "highRated=df[df['Average User Rating']>=4.0].loc[:,['ID','Name','Average User Rating','User Rating Count','Price','Age Rating','Size','Primary Genre','Genres']]\n",
        "\n",
        "#Sorting dataset according to Rating and reseting index\n",
        "highRated=highRated.sort_values(['Average User Rating','User Rating Count'],ascending=[False,False])\n",
        "highRated=highRated.reset_index(drop=True)\n",
        "highRated.shape"
      ],
      "execution_count": 8,
      "outputs": [
        {
          "output_type": "execute_result",
          "data": {
            "text/plain": [
              "(5573, 9)"
            ]
          },
          "metadata": {
            "tags": []
          },
          "execution_count": 8
        }
      ]
    },
    {
      "cell_type": "markdown",
      "metadata": {
        "id": "hHypX7Fc0EmL",
        "colab_type": "text"
      },
      "source": [
        "So, total 5573 apps in the dataframe have have rating of 4 and above.\n",
        "So, we'll proceed with the analysis of these 5573 apps."
      ]
    },
    {
      "cell_type": "code",
      "metadata": {
        "id": "HTfo9Wipi8Tw",
        "colab_type": "code",
        "colab": {
          "base_uri": "https://localhost:8080/",
          "height": 187
        },
        "outputId": "4e2bd8ca-f437-44f9-f721-57e3e68645c4"
      },
      "source": [
        "# checking for number of null values in the filtered dataframe\n",
        "highRated.isnull().sum()"
      ],
      "execution_count": 100,
      "outputs": [
        {
          "output_type": "execute_result",
          "data": {
            "text/plain": [
              "ID                     0\n",
              "Name                   0\n",
              "Average User Rating    0\n",
              "User Rating Count      0\n",
              "Price                  0\n",
              "Age Rating             0\n",
              "Size                   0\n",
              "Primary Genre          0\n",
              "Genres                 0\n",
              "dtype: int64"
            ]
          },
          "metadata": {
            "tags": []
          },
          "execution_count": 100
        }
      ]
    },
    {
      "cell_type": "markdown",
      "metadata": {
        "id": "tMnJPEV2n9G8",
        "colab_type": "text"
      },
      "source": [
        "Hence, there are no null values in the filtered dataframe."
      ]
    },
    {
      "cell_type": "markdown",
      "metadata": {
        "id": "krVjzreFyBsI",
        "colab_type": "text"
      },
      "source": [
        "# Analysis based on Price"
      ]
    },
    {
      "cell_type": "code",
      "metadata": {
        "id": "lorc6qsvx_xB",
        "colab_type": "code",
        "outputId": "b4c95563-e338-4616-de60-cd3bc5729760",
        "colab": {
          "base_uri": "https://localhost:8080/",
          "height": 0
        }
      },
      "source": [
        "hrFree=highRated[highRated.Price==0]\n",
        "hrPaid=highRated[highRated.Price!=0]\n",
        "print(hrFree.shape)\n",
        "print(hrPaid.shape)"
      ],
      "execution_count": 9,
      "outputs": [
        {
          "output_type": "stream",
          "text": [
            "(4685, 9)\n",
            "(888, 9)\n"
          ],
          "name": "stdout"
        }
      ]
    },
    {
      "cell_type": "code",
      "metadata": {
        "id": "WdpYqKaD0pJR",
        "colab_type": "code",
        "outputId": "4daa962f-c883-4568-9e83-d5556661cb22",
        "colab": {
          "base_uri": "https://localhost:8080/",
          "height": 0
        }
      },
      "source": [
        "(4685/5573)*100"
      ],
      "execution_count": 10,
      "outputs": [
        {
          "output_type": "execute_result",
          "data": {
            "text/plain": [
              "84.0660326574556"
            ]
          },
          "metadata": {
            "tags": []
          },
          "execution_count": 10
        }
      ]
    },
    {
      "cell_type": "markdown",
      "metadata": {
        "id": "AiIn5XRV03Vx",
        "colab_type": "text"
      },
      "source": [
        "Hence, 84.1 % high rated apps are FREE."
      ]
    },
    {
      "cell_type": "code",
      "metadata": {
        "id": "T8PjZRcH1KDh",
        "colab_type": "code",
        "outputId": "338cb043-f872-4c70-b4f5-79ad927d44b9",
        "colab": {
          "base_uri": "https://localhost:8080/",
          "height": 0
        }
      },
      "source": [
        "#plt.plot(range(1,889),hrPaid['Price'])\n",
        "#plt.ylim(0,20)\n",
        "#plt.ylabel('Price in $')\n",
        "hrPaid['Price'].value_counts()"
      ],
      "execution_count": 11,
      "outputs": [
        {
          "output_type": "execute_result",
          "data": {
            "text/plain": [
              "0.99      228\n",
              "2.99      183\n",
              "1.99      148\n",
              "4.99      140\n",
              "3.99       83\n",
              "9.99       37\n",
              "6.99       19\n",
              "5.99       18\n",
              "8.99       11\n",
              "7.99        8\n",
              "19.99       4\n",
              "11.99       2\n",
              "12.99       2\n",
              "59.99       1\n",
              "36.99       1\n",
              "14.99       1\n",
              "139.99      1\n",
              "16.99       1\n",
              "Name: Price, dtype: int64"
            ]
          },
          "metadata": {
            "tags": []
          },
          "execution_count": 11
        }
      ]
    },
    {
      "cell_type": "markdown",
      "metadata": {
        "id": "Bh7Fl_Xh1dkX",
        "colab_type": "text"
      },
      "source": [
        "From above plot, If the app is paid, it's price must be within $5."
      ]
    },
    {
      "cell_type": "code",
      "metadata": {
        "id": "623I9CYk8Aio",
        "colab_type": "code",
        "outputId": "47e76b62-a43a-4428-928b-da56792d7329",
        "colab": {
          "base_uri": "https://localhost:8080/",
          "height": 0
        }
      },
      "source": [
        "hrFree['Average User Rating'].mean()"
      ],
      "execution_count": 12,
      "outputs": [
        {
          "output_type": "execute_result",
          "data": {
            "text/plain": [
              "4.439807897545357"
            ]
          },
          "metadata": {
            "tags": []
          },
          "execution_count": 12
        }
      ]
    },
    {
      "cell_type": "code",
      "metadata": {
        "id": "NmzW41sI8G7i",
        "colab_type": "code",
        "outputId": "fb2337ad-1c25-4f08-9667-bafa3c5ebe25",
        "colab": {
          "base_uri": "https://localhost:8080/",
          "height": 0
        }
      },
      "source": [
        "hrPaid['Average User Rating'].mean()"
      ],
      "execution_count": 13,
      "outputs": [
        {
          "output_type": "execute_result",
          "data": {
            "text/plain": [
              "4.405405405405405"
            ]
          },
          "metadata": {
            "tags": []
          },
          "execution_count": 13
        }
      ]
    },
    {
      "cell_type": "markdown",
      "metadata": {
        "id": "PA62JBs6CGyu",
        "colab_type": "text"
      },
      "source": [
        "Hence, FREE apps have higher avg rating than PAID apps."
      ]
    },
    {
      "cell_type": "code",
      "metadata": {
        "id": "NA-0mg_d8fU5",
        "colab_type": "code",
        "outputId": "57a9bc48-7fa7-4179-95b7-929104ff9542",
        "colab": {
          "base_uri": "https://localhost:8080/",
          "height": 0
        }
      },
      "source": [
        "#Avg Rating of Apps of price $0.99\n",
        "hrP1=hrPaid[hrPaid['Price']==0.99]\n",
        "hrP1['Average User Rating'].mean()"
      ],
      "execution_count": 14,
      "outputs": [
        {
          "output_type": "execute_result",
          "data": {
            "text/plain": [
              "4.3881578947368425"
            ]
          },
          "metadata": {
            "tags": []
          },
          "execution_count": 14
        }
      ]
    },
    {
      "cell_type": "code",
      "metadata": {
        "id": "GjjA6W8ZBFh1",
        "colab_type": "code",
        "outputId": "4d8b0751-9134-43c8-8d73-13c4d1ffc753",
        "colab": {
          "base_uri": "https://localhost:8080/",
          "height": 0
        }
      },
      "source": [
        "#Avg Rating of Apps of price $1.99\n",
        "hrP2=hrPaid[hrPaid['Price']==1.99]\n",
        "hrP2['Average User Rating'].mean()"
      ],
      "execution_count": 15,
      "outputs": [
        {
          "output_type": "execute_result",
          "data": {
            "text/plain": [
              "4.422297297297297"
            ]
          },
          "metadata": {
            "tags": []
          },
          "execution_count": 15
        }
      ]
    },
    {
      "cell_type": "code",
      "metadata": {
        "id": "lYOrNxZ9BTma",
        "colab_type": "code",
        "outputId": "3319375b-a170-45c8-8014-e9fbf657261e",
        "colab": {
          "base_uri": "https://localhost:8080/",
          "height": 0
        }
      },
      "source": [
        "#Avg Rating of Apps of price $2.99\n",
        "hrP3=hrPaid[hrPaid['Price']==2.99]\n",
        "hrP3['Average User Rating'].mean()"
      ],
      "execution_count": 16,
      "outputs": [
        {
          "output_type": "execute_result",
          "data": {
            "text/plain": [
              "4.420765027322404"
            ]
          },
          "metadata": {
            "tags": []
          },
          "execution_count": 16
        }
      ]
    },
    {
      "cell_type": "code",
      "metadata": {
        "id": "27B4QtDyBapn",
        "colab_type": "code",
        "outputId": "d441cee5-ceb5-4b60-a176-198fc253d7df",
        "colab": {
          "base_uri": "https://localhost:8080/",
          "height": 0
        }
      },
      "source": [
        "#Avg Rating of Apps of price $3.99\n",
        "hrP4=hrPaid[hrPaid['Price']==3.99]\n",
        "hrP4['Average User Rating'].mean()"
      ],
      "execution_count": 17,
      "outputs": [
        {
          "output_type": "execute_result",
          "data": {
            "text/plain": [
              "4.4156626506024095"
            ]
          },
          "metadata": {
            "tags": []
          },
          "execution_count": 17
        }
      ]
    },
    {
      "cell_type": "code",
      "metadata": {
        "id": "vit0K4CpBbdI",
        "colab_type": "code",
        "outputId": "f923df44-4d98-4717-b285-b7e04912fb14",
        "colab": {
          "base_uri": "https://localhost:8080/",
          "height": 0
        }
      },
      "source": [
        "#Avg Rating of Apps of price $4.99\n",
        "hrP5=hrPaid[hrPaid['Price']==4.99]\n",
        "hrP5['Average User Rating'].mean()"
      ],
      "execution_count": 18,
      "outputs": [
        {
          "output_type": "execute_result",
          "data": {
            "text/plain": [
              "4.414285714285715"
            ]
          },
          "metadata": {
            "tags": []
          },
          "execution_count": 18
        }
      ]
    },
    {
      "cell_type": "markdown",
      "metadata": {
        "id": "CvCzyIAICSG0",
        "colab_type": "text"
      },
      "source": [
        "Amongst Paid apps, apps with price of \\$2 and \\$3 have the highest avg rating."
      ]
    },
    {
      "cell_type": "markdown",
      "metadata": {
        "id": "Kg5YXwpqIEQl",
        "colab_type": "text"
      },
      "source": [
        "# Analysis based on Genres"
      ]
    },
    {
      "cell_type": "markdown",
      "metadata": {
        "id": "x9DXkGuPhMFD",
        "colab_type": "text"
      },
      "source": [
        "### Finding the most common Genres"
      ]
    },
    {
      "cell_type": "code",
      "metadata": {
        "id": "5-0f9XCv-t3L",
        "colab_type": "code",
        "outputId": "808d29ad-d5ca-49fe-9c67-22aa1271880d",
        "colab": {
          "base_uri": "https://localhost:8080/",
          "height": 0
        }
      },
      "source": [
        "gnr=highRated['Genres'].value_counts()\n",
        "gnr.head(50)"
      ],
      "execution_count": 19,
      "outputs": [
        {
          "output_type": "execute_result",
          "data": {
            "text/plain": [
              "Games, Simulation, Strategy                     207\n",
              "Games, Strategy, Simulation                     206\n",
              "Games, Strategy, Puzzle                         202\n",
              "Games, Strategy, Action                         200\n",
              "Games, Puzzle, Strategy                         172\n",
              "Games, Action, Strategy                         164\n",
              "Games, Strategy                                 161\n",
              "Games, Strategy, Role Playing                   150\n",
              "Games, Role Playing, Strategy                   138\n",
              "Games, Strategy, Puzzle, Entertainment          108\n",
              "Games, Strategy, Entertainment, Puzzle           95\n",
              "Games, Puzzle, Strategy, Entertainment           94\n",
              "Games, Board, Strategy                           92\n",
              "Games, Entertainment, Puzzle, Strategy           89\n",
              "Games, Strategy, Board                           82\n",
              "Games, Casual, Strategy                          79\n",
              "Games, Action, Strategy, Entertainment           78\n",
              "Games, Strategy, Entertainment, Simulation       77\n",
              "Games, Strategy, Casual                          76\n",
              "Games, Strategy, Entertainment, Action           73\n",
              "Games, Simulation, Entertainment, Strategy       72\n",
              "Games, Puzzle, Entertainment, Strategy           71\n",
              "Games, Entertainment, Strategy, Puzzle           66\n",
              "Games, Action, Entertainment, Strategy           65\n",
              "Games, Strategy, Entertainment, Role Playing     63\n",
              "Games, Strategy, Action, Entertainment           63\n",
              "Games, Adventure, Strategy                       61\n",
              "Games, Simulation, Strategy, Entertainment       60\n",
              "Games, Board, Entertainment, Strategy            59\n",
              "Games, Entertainment, Simulation, Strategy       59\n",
              "Games, Entertainment, Action, Strategy           59\n",
              "Games, Entertainment, Strategy, Simulation       56\n",
              "Games, Entertainment, Strategy, Action           55\n",
              "Games, Strategy, Simulation, Entertainment       54\n",
              "Games, Entertainment, Role Playing, Strategy     53\n",
              "Games, Strategy, Board, Entertainment            53\n",
              "Games, Entertainment, Board, Strategy            48\n",
              "Games, Role Playing, Entertainment, Strategy     48\n",
              "Games, Card, Strategy                            46\n",
              "Games, Casual, Entertainment, Strategy           46\n",
              "Games, Entertainment, Strategy, Board            45\n",
              "Games, Strategy, Casual, Entertainment           44\n",
              "Games, Entertainment, Strategy, Casual           41\n",
              "Games, Entertainment, Casual, Strategy           41\n",
              "Games, Strategy, Adventure                       40\n",
              "Games, Entertainment, Card, Strategy             39\n",
              "Games, Role Playing, Strategy, Entertainment     38\n",
              "Games, Board, Strategy, Entertainment            37\n",
              "Games, Casual, Strategy, Entertainment           36\n",
              "Games, Entertainment, Strategy, Family           36\n",
              "Name: Genres, dtype: int64"
            ]
          },
          "metadata": {
            "tags": []
          },
          "execution_count": 19
        }
      ]
    },
    {
      "cell_type": "markdown",
      "metadata": {
        "id": "xaaXVy2AHERW",
        "colab_type": "text"
      },
      "source": [
        "From above table, the most common genres of high rates apps are - Puzzle , Simulation , Action , Role Playing , Board , Casual , Adventure , Card\n",
        "Next, we'll form dataframes for these genres and analyse them separately"
      ]
    },
    {
      "cell_type": "code",
      "metadata": {
        "id": "P4AoRgu-Hvzl",
        "colab_type": "code",
        "colab": {}
      },
      "source": [
        "#Creating separate dataframes for the most common genres\n",
        "hrSimulation=highRated[highRated['Genres'].str.contains('Simulation')]\n",
        "hrSimulation=hrSimulation.reset_index(drop=True)\n",
        "\n",
        "hrPuzzle=highRated[highRated['Genres'].str.contains('Puzzle')]\n",
        "hrPuzzle=hrPuzzle.reset_index(drop=True)\n",
        "\n",
        "hrAction=highRated[highRated['Genres'].str.contains('Action')]\n",
        "hrAction=hrAction.reset_index(drop=True)\n",
        "\n",
        "hrRolePlaying=highRated[highRated['Genres'].str.contains('Role Playing')]\n",
        "hrRolePlaying=hrRolePlaying.reset_index(drop=True)\n",
        "\n",
        "hrBoard=highRated[highRated['Genres'].str.contains('Board')]\n",
        "hrBoard=hrBoard.reset_index(drop=True)\n",
        "\n",
        "hrCasual=highRated[highRated['Genres'].str.contains('Casual')]\n",
        "hrCasual=hrCasual.reset_index(drop=True)\n",
        "\n",
        "hrAdventure=highRated[highRated['Genres'].str.contains('Adventure')]\n",
        "hrAdventure=hrAdventure.reset_index(drop=True)\n",
        "\n",
        "hrCard=highRated[highRated['Genres'].str.contains('Card')]\n",
        "hrCard=hrCard.reset_index(drop=True)"
      ],
      "execution_count": 0,
      "outputs": []
    },
    {
      "cell_type": "markdown",
      "metadata": {
        "colab_type": "text",
        "id": "QXJXNNAGW6EB"
      },
      "source": [
        "### Puzzle Games"
      ]
    },
    {
      "cell_type": "code",
      "metadata": {
        "colab_type": "code",
        "outputId": "2712dfb6-70ed-4b3f-8bc6-029da6c7f25a",
        "id": "AHfLmHaJW6EX",
        "colab": {
          "base_uri": "https://localhost:8080/",
          "height": 0
        }
      },
      "source": [
        "hrPuzzle.shape"
      ],
      "execution_count": 21,
      "outputs": [
        {
          "output_type": "execute_result",
          "data": {
            "text/plain": [
              "(1033, 9)"
            ]
          },
          "metadata": {
            "tags": []
          },
          "execution_count": 21
        }
      ]
    },
    {
      "cell_type": "markdown",
      "metadata": {
        "colab_type": "text",
        "id": "rEaxY4vZW6Eg"
      },
      "source": [
        "There are 1033 Puzzle games with rating 4 or above."
      ]
    },
    {
      "cell_type": "code",
      "metadata": {
        "colab_type": "code",
        "outputId": "50583376-055a-4dd8-93a5-4bd33d9b978c",
        "id": "uE8BGvjIW6Eh",
        "colab": {
          "base_uri": "https://localhost:8080/",
          "height": 0
        }
      },
      "source": [
        "hrPuzzle['Average User Rating'].mean()"
      ],
      "execution_count": 22,
      "outputs": [
        {
          "output_type": "execute_result",
          "data": {
            "text/plain": [
              "4.504356243949661"
            ]
          },
          "metadata": {
            "tags": []
          },
          "execution_count": 22
        }
      ]
    },
    {
      "cell_type": "code",
      "metadata": {
        "colab_type": "code",
        "outputId": "efb82d00-3696-48f0-e7dd-2a2e9a44ee03",
        "id": "HA6B1DWeW6Ek",
        "colab": {
          "base_uri": "https://localhost:8080/",
          "height": 0
        }
      },
      "source": [
        "plt.plot(range(1,1034),hrPuzzle['Size'])\n",
        "plt.ylim(0,400000000)\n",
        "plt.ylabel('Size in 100 MBs')"
      ],
      "execution_count": 23,
      "outputs": [
        {
          "output_type": "execute_result",
          "data": {
            "text/plain": [
              "Text(0, 0.5, 'Size in 100 MBs')"
            ]
          },
          "metadata": {
            "tags": []
          },
          "execution_count": 23
        },
        {
          "output_type": "display_data",
          "data": {
            "image/png": "[encoded data removed]",
            "text/plain": [
              "<Figure size 432x288 with 1 Axes>"
            ]
          },
          "metadata": {
            "tags": []
          }
        }
      ]
    },
    {
      "cell_type": "code",
      "metadata": {
        "id": "UVh-lOzpf8rM",
        "colab_type": "code",
        "outputId": "03376638-e9f3-468b-e2b7-27c692aa54f8",
        "colab": {
          "base_uri": "https://localhost:8080/",
          "height": 0
        }
      },
      "source": [
        "hrPuzzle['Size'].mean()"
      ],
      "execution_count": 24,
      "outputs": [
        {
          "output_type": "execute_result",
          "data": {
            "text/plain": [
              "80702624.72894482"
            ]
          },
          "metadata": {
            "tags": []
          },
          "execution_count": 24
        }
      ]
    },
    {
      "cell_type": "markdown",
      "metadata": {
        "colab_type": "text",
        "id": "wzu6DSLAW6Em"
      },
      "source": [
        "The size of high rated Puzzle games should be less than or around 100 MB."
      ]
    },
    {
      "cell_type": "code",
      "metadata": {
        "colab_type": "code",
        "outputId": "0c8c5868-746c-4c8d-c7b7-0dbe1d647289",
        "id": "2kLGmPI7W6En",
        "colab": {
          "base_uri": "https://localhost:8080/",
          "height": 0
        }
      },
      "source": [
        "hrPuzzle['Price'].value_counts()"
      ],
      "execution_count": 25,
      "outputs": [
        {
          "output_type": "execute_result",
          "data": {
            "text/plain": [
              "0.00    872\n",
              "0.99     71\n",
              "2.99     44\n",
              "1.99     29\n",
              "4.99      8\n",
              "3.99      5\n",
              "8.99      2\n",
              "9.99      1\n",
              "5.99      1\n",
              "Name: Price, dtype: int64"
            ]
          },
          "metadata": {
            "tags": []
          },
          "execution_count": 25
        }
      ]
    },
    {
      "cell_type": "code",
      "metadata": {
        "colab_type": "code",
        "outputId": "ec6f3817-c893-4630-b0a1-cb6be8b08fd9",
        "id": "qxoC3VbFW6Er",
        "colab": {
          "base_uri": "https://localhost:8080/",
          "height": 0
        }
      },
      "source": [
        "(872/1033)*100"
      ],
      "execution_count": 26,
      "outputs": [
        {
          "output_type": "execute_result",
          "data": {
            "text/plain": [
              "84.41432720232332"
            ]
          },
          "metadata": {
            "tags": []
          },
          "execution_count": 26
        }
      ]
    },
    {
      "cell_type": "markdown",
      "metadata": {
        "colab_type": "text",
        "id": "EXsR3KLIW6Ev"
      },
      "source": [
        "More than 84 % Puzzle games are FREE.\n",
        "\n",
        "For Paid Puzzle games, Price must be below $3."
      ]
    },
    {
      "cell_type": "code",
      "metadata": {
        "colab_type": "code",
        "outputId": "d2bbb0bf-6670-418e-e942-fe8dfa2a3d51",
        "id": "aTUt2fApW6Ew",
        "colab": {
          "base_uri": "https://localhost:8080/",
          "height": 0
        }
      },
      "source": [
        "hrPuzzle['Age Rating'].value_counts()\n"
      ],
      "execution_count": 27,
      "outputs": [
        {
          "output_type": "execute_result",
          "data": {
            "text/plain": [
              "4+     889\n",
              "9+      74\n",
              "12+     49\n",
              "17+     21\n",
              "Name: Age Rating, dtype: int64"
            ]
          },
          "metadata": {
            "tags": []
          },
          "execution_count": 27
        }
      ]
    },
    {
      "cell_type": "markdown",
      "metadata": {
        "colab_type": "text",
        "id": "k3OUeOUfW6Ey"
      },
      "source": [
        "The Age Rating of Puzzle games must be 4+."
      ]
    },
    {
      "cell_type": "markdown",
      "metadata": {
        "id": "sLw9PIQMLPfO",
        "colab_type": "text"
      },
      "source": [
        "### Simulation Games"
      ]
    },
    {
      "cell_type": "code",
      "metadata": {
        "id": "fB5DwkslNriv",
        "colab_type": "code",
        "outputId": "f68b7f5b-bd86-4bf4-8dc3-798c520b0659",
        "colab": {
          "base_uri": "https://localhost:8080/",
          "height": 0
        }
      },
      "source": [
        "hrSimulation.shape"
      ],
      "execution_count": 28,
      "outputs": [
        {
          "output_type": "execute_result",
          "data": {
            "text/plain": [
              "(874, 9)"
            ]
          },
          "metadata": {
            "tags": []
          },
          "execution_count": 28
        }
      ]
    },
    {
      "cell_type": "markdown",
      "metadata": {
        "id": "xIHca0EaSI3_",
        "colab_type": "text"
      },
      "source": [
        "There are 874 Simulation games with rating 4 or above."
      ]
    },
    {
      "cell_type": "code",
      "metadata": {
        "id": "gALDOVvwUjux",
        "colab_type": "code",
        "outputId": "f84cbcbf-af59-45a5-ef06-87824a6c0536",
        "colab": {
          "base_uri": "https://localhost:8080/",
          "height": 0
        }
      },
      "source": [
        "hrSimulation['Average User Rating'].mean()"
      ],
      "execution_count": 29,
      "outputs": [
        {
          "output_type": "execute_result",
          "data": {
            "text/plain": [
              "4.4016018306636155"
            ]
          },
          "metadata": {
            "tags": []
          },
          "execution_count": 29
        }
      ]
    },
    {
      "cell_type": "code",
      "metadata": {
        "id": "68hi-dZcLbwJ",
        "colab_type": "code",
        "outputId": "67e218ab-53d1-4197-cd4a-ad00f12cb891",
        "colab": {
          "base_uri": "https://localhost:8080/",
          "height": 0
        }
      },
      "source": [
        "plt.plot(range(1,875),hrSimulation['Size'])\n",
        "plt.ylim(0,700000000)\n",
        "plt.ylabel('Size in 100 MBs')"
      ],
      "execution_count": 30,
      "outputs": [
        {
          "output_type": "execute_result",
          "data": {
            "text/plain": [
              "Text(0, 0.5, 'Size in 100 MBs')"
            ]
          },
          "metadata": {
            "tags": []
          },
          "execution_count": 30
        },
        {
          "output_type": "display_data",
          "data": {
            "image/png": "[encoded data removed]",
            "text/plain": [
              "<Figure size 432x288 with 1 Axes>"
            ]
          },
          "metadata": {
            "tags": []
          }
        }
      ]
    },
    {
      "cell_type": "code",
      "metadata": {
        "id": "mOJT5TF-fgOM",
        "colab_type": "code",
        "outputId": "c0f7e42d-dac2-47fb-dbe5-926c3289511f",
        "colab": {
          "base_uri": "https://localhost:8080/",
          "height": 0
        }
      },
      "source": [
        "hrSimulation['Size'].mean()"
      ],
      "execution_count": 31,
      "outputs": [
        {
          "output_type": "execute_result",
          "data": {
            "text/plain": [
              "196701094.00572082"
            ]
          },
          "metadata": {
            "tags": []
          },
          "execution_count": 31
        }
      ]
    },
    {
      "cell_type": "markdown",
      "metadata": {
        "id": "xs6ukg5nLqt3",
        "colab_type": "text"
      },
      "source": [
        "The size of high rated Simulation games must be less than 200 MB and could be safely extended upto 300 MB."
      ]
    },
    {
      "cell_type": "code",
      "metadata": {
        "id": "fGMgY2sLP-4r",
        "colab_type": "code",
        "outputId": "90cd1408-d3c3-4ccc-edb5-e54e656bc386",
        "colab": {
          "base_uri": "https://localhost:8080/",
          "height": 0
        }
      },
      "source": [
        "hrSimulation['Price'].value_counts()"
      ],
      "execution_count": 32,
      "outputs": [
        {
          "output_type": "execute_result",
          "data": {
            "text/plain": [
              "0.00      697\n",
              "2.99       45\n",
              "4.99       37\n",
              "0.99       31\n",
              "1.99       23\n",
              "3.99       17\n",
              "5.99        7\n",
              "9.99        6\n",
              "8.99        4\n",
              "6.99        4\n",
              "11.99       1\n",
              "139.99      1\n",
              "7.99        1\n",
              "Name: Price, dtype: int64"
            ]
          },
          "metadata": {
            "tags": []
          },
          "execution_count": 32
        }
      ]
    },
    {
      "cell_type": "code",
      "metadata": {
        "id": "ecCMWO2FQn5q",
        "colab_type": "code",
        "outputId": "7253a223-c042-4c1e-cb8c-85b55044fcd2",
        "colab": {
          "base_uri": "https://localhost:8080/",
          "height": 0
        }
      },
      "source": [
        "(697/874)*100"
      ],
      "execution_count": 33,
      "outputs": [
        {
          "output_type": "execute_result",
          "data": {
            "text/plain": [
              "79.74828375286042"
            ]
          },
          "metadata": {
            "tags": []
          },
          "execution_count": 33
        }
      ]
    },
    {
      "cell_type": "markdown",
      "metadata": {
        "id": "LPXqR8zzQzg_",
        "colab_type": "text"
      },
      "source": [
        "Almost 80 % Simulation games are FREE.\n",
        "\n",
        "For Paid Simulation games, Price must be below $5."
      ]
    },
    {
      "cell_type": "code",
      "metadata": {
        "id": "C1Td-cFxRQc-",
        "colab_type": "code",
        "outputId": "c6b85b86-20c1-48e1-8af7-e6be4f1b3534",
        "colab": {
          "base_uri": "https://localhost:8080/",
          "height": 0
        }
      },
      "source": [
        "hrSimulation['Age Rating'].value_counts()"
      ],
      "execution_count": 34,
      "outputs": [
        {
          "output_type": "execute_result",
          "data": {
            "text/plain": [
              "4+     468\n",
              "12+    202\n",
              "9+     169\n",
              "17+     35\n",
              "Name: Age Rating, dtype: int64"
            ]
          },
          "metadata": {
            "tags": []
          },
          "execution_count": 34
        }
      ]
    },
    {
      "cell_type": "markdown",
      "metadata": {
        "id": "EAZHhAjSWPXf",
        "colab_type": "text"
      },
      "source": [
        "The Age Rating of Simulation games must be 4+, 9+ or 12+."
      ]
    },
    {
      "cell_type": "markdown",
      "metadata": {
        "colab_type": "text",
        "id": "Kdr1kV97cCuz"
      },
      "source": [
        "### Action Games"
      ]
    },
    {
      "cell_type": "code",
      "metadata": {
        "colab_type": "code",
        "outputId": "2e2a130c-678c-4a8a-dea5-d25bbaa8706c",
        "id": "swSEpMEvcCu4",
        "colab": {
          "base_uri": "https://localhost:8080/",
          "height": 0
        }
      },
      "source": [
        "hrAction.shape"
      ],
      "execution_count": 35,
      "outputs": [
        {
          "output_type": "execute_result",
          "data": {
            "text/plain": [
              "(803, 9)"
            ]
          },
          "metadata": {
            "tags": []
          },
          "execution_count": 35
        }
      ]
    },
    {
      "cell_type": "markdown",
      "metadata": {
        "colab_type": "text",
        "id": "WDPlil8ZcCvC"
      },
      "source": [
        "There are 803 Action games with rating 4 or above."
      ]
    },
    {
      "cell_type": "code",
      "metadata": {
        "colab_type": "code",
        "outputId": "b9c89846-487f-4419-a344-394077f20c16",
        "id": "HqZnOMFocCvE",
        "colab": {
          "base_uri": "https://localhost:8080/",
          "height": 0
        }
      },
      "source": [
        "hrAction['Average User Rating'].mean()"
      ],
      "execution_count": 36,
      "outputs": [
        {
          "output_type": "execute_result",
          "data": {
            "text/plain": [
              "4.419053549190536"
            ]
          },
          "metadata": {
            "tags": []
          },
          "execution_count": 36
        }
      ]
    },
    {
      "cell_type": "code",
      "metadata": {
        "colab_type": "code",
        "outputId": "101af2a9-4c81-4d74-f801-cddb7b84015b",
        "id": "dn9ZjOkRcCvL",
        "colab": {
          "base_uri": "https://localhost:8080/",
          "height": 0
        }
      },
      "source": [
        "plt.plot(range(1,804),hrAction['Size'])\n",
        "plt.ylim(0,1200000000)\n",
        "plt.ylabel('Size in GBs')"
      ],
      "execution_count": 37,
      "outputs": [
        {
          "output_type": "execute_result",
          "data": {
            "text/plain": [
              "Text(0, 0.5, 'Size in GBs')"
            ]
          },
          "metadata": {
            "tags": []
          },
          "execution_count": 37
        },
        {
          "output_type": "display_data",
          "data": {
            "image/png": "[encoded data removed]",
            "text/plain": [
              "<Figure size 432x288 with 1 Axes>"
            ]
          },
          "metadata": {
            "tags": []
          }
        }
      ]
    },
    {
      "cell_type": "code",
      "metadata": {
        "id": "b_HVsHwvfND6",
        "colab_type": "code",
        "outputId": "281f1a67-ee50-443a-9131-6db550368927",
        "colab": {
          "base_uri": "https://localhost:8080/",
          "height": 0
        }
      },
      "source": [
        "hrAction['Size'].mean()"
      ],
      "execution_count": 38,
      "outputs": [
        {
          "output_type": "execute_result",
          "data": {
            "text/plain": [
              "221544174.06351182"
            ]
          },
          "metadata": {
            "tags": []
          },
          "execution_count": 38
        }
      ]
    },
    {
      "cell_type": "markdown",
      "metadata": {
        "colab_type": "text",
        "id": "yeeUIEmscCvP"
      },
      "source": [
        "The size of high rated Action games should be less than or around 250 MB but they can be of size upto 1 GB."
      ]
    },
    {
      "cell_type": "code",
      "metadata": {
        "colab_type": "code",
        "outputId": "a3357b9d-1291-4b0a-fb55-f0cb1ba17462",
        "id": "3epk_o5-cCvQ",
        "colab": {
          "base_uri": "https://localhost:8080/",
          "height": 0
        }
      },
      "source": [
        "hrAction['Price'].value_counts()"
      ],
      "execution_count": 39,
      "outputs": [
        {
          "output_type": "execute_result",
          "data": {
            "text/plain": [
              "0.00    695\n",
              "2.99     27\n",
              "1.99     24\n",
              "0.99     23\n",
              "4.99     22\n",
              "3.99      7\n",
              "9.99      2\n",
              "5.99      2\n",
              "6.99      1\n",
              "Name: Price, dtype: int64"
            ]
          },
          "metadata": {
            "tags": []
          },
          "execution_count": 39
        }
      ]
    },
    {
      "cell_type": "code",
      "metadata": {
        "colab_type": "code",
        "outputId": "be0d0b46-8d82-4fdf-bdd9-fac320d08047",
        "id": "Mt4Yo2hocCvT",
        "colab": {
          "base_uri": "https://localhost:8080/",
          "height": 0
        }
      },
      "source": [
        "(695/803)*100"
      ],
      "execution_count": 40,
      "outputs": [
        {
          "output_type": "execute_result",
          "data": {
            "text/plain": [
              "86.55043586550435"
            ]
          },
          "metadata": {
            "tags": []
          },
          "execution_count": 40
        }
      ]
    },
    {
      "cell_type": "markdown",
      "metadata": {
        "colab_type": "text",
        "id": "PAu3CBePcCvY"
      },
      "source": [
        "More than 86 % Action games are FREE.\n",
        "\n",
        "For Paid Action games, Price must be below $5."
      ]
    },
    {
      "cell_type": "code",
      "metadata": {
        "colab_type": "code",
        "outputId": "36f4c84f-9ee4-41c4-98e4-7a1c9667edb3",
        "id": "tlZLc8XTcCvZ",
        "colab": {
          "base_uri": "https://localhost:8080/",
          "height": 0
        }
      },
      "source": [
        "hrAction['Age Rating'].value_counts()\n"
      ],
      "execution_count": 41,
      "outputs": [
        {
          "output_type": "execute_result",
          "data": {
            "text/plain": [
              "9+     282\n",
              "12+    265\n",
              "4+     202\n",
              "17+     54\n",
              "Name: Age Rating, dtype: int64"
            ]
          },
          "metadata": {
            "tags": []
          },
          "execution_count": 41
        }
      ]
    },
    {
      "cell_type": "markdown",
      "metadata": {
        "colab_type": "text",
        "id": "w1Qw_QKJcCvd"
      },
      "source": [
        "The Age Rating of Puzzle games can be 4+, 9+ or 12+ but 17+ can also be logical option in some cases."
      ]
    },
    {
      "cell_type": "markdown",
      "metadata": {
        "colab_type": "text",
        "id": "2HcBDJbah-8t"
      },
      "source": [
        "### Role Playing Games"
      ]
    },
    {
      "cell_type": "code",
      "metadata": {
        "colab_type": "code",
        "outputId": "80e2e363-741c-41b6-f88d-7f71b95207d7",
        "id": "OH8AB16ih-80",
        "colab": {
          "base_uri": "https://localhost:8080/",
          "height": 0
        }
      },
      "source": [
        "hrRolePlaying.shape"
      ],
      "execution_count": 42,
      "outputs": [
        {
          "output_type": "execute_result",
          "data": {
            "text/plain": [
              "(616, 9)"
            ]
          },
          "metadata": {
            "tags": []
          },
          "execution_count": 42
        }
      ]
    },
    {
      "cell_type": "markdown",
      "metadata": {
        "colab_type": "text",
        "id": "gKEApdgNh-88"
      },
      "source": [
        "There are 616 Role Playing games with rating 4 or above."
      ]
    },
    {
      "cell_type": "code",
      "metadata": {
        "colab_type": "code",
        "outputId": "fe756b9a-e76e-4009-a4c2-744113ebcf5b",
        "id": "VOXcPt37h-89",
        "colab": {
          "base_uri": "https://localhost:8080/",
          "height": 0
        }
      },
      "source": [
        "hrRolePlaying['Average User Rating'].mean()"
      ],
      "execution_count": 43,
      "outputs": [
        {
          "output_type": "execute_result",
          "data": {
            "text/plain": [
              "4.404220779220779"
            ]
          },
          "metadata": {
            "tags": []
          },
          "execution_count": 43
        }
      ]
    },
    {
      "cell_type": "code",
      "metadata": {
        "colab_type": "code",
        "outputId": "09135ec2-dc42-4a49-eee4-8fa99904ccc4",
        "id": "8KNwLTqCh-8_",
        "colab": {
          "base_uri": "https://localhost:8080/",
          "height": 0
        }
      },
      "source": [
        "plt.plot(range(1,617),hrRolePlaying['Size'])\n",
        "plt.ylim(0,1000000000)\n",
        "plt.ylabel('Size in GBs')"
      ],
      "execution_count": 44,
      "outputs": [
        {
          "output_type": "execute_result",
          "data": {
            "text/plain": [
              "Text(0, 0.5, 'Size in GBs')"
            ]
          },
          "metadata": {
            "tags": []
          },
          "execution_count": 44
        },
        {
          "output_type": "display_data",
          "data": {
            "image/png": "[encoded data removed]",
            "text/plain": [
              "<Figure size 432x288 with 1 Axes>"
            ]
          },
          "metadata": {
            "tags": []
          }
        }
      ]
    },
    {
      "cell_type": "code",
      "metadata": {
        "colab_type": "code",
        "outputId": "0082ea2f-f9ba-41c6-d20f-fc56929cb5d8",
        "id": "t1HFyVjfh-9F",
        "colab": {
          "base_uri": "https://localhost:8080/",
          "height": 0
        }
      },
      "source": [
        "hrRolePlaying['Size'].mean()"
      ],
      "execution_count": 45,
      "outputs": [
        {
          "output_type": "execute_result",
          "data": {
            "text/plain": [
              "290496903.45616883"
            ]
          },
          "metadata": {
            "tags": []
          },
          "execution_count": 45
        }
      ]
    },
    {
      "cell_type": "markdown",
      "metadata": {
        "colab_type": "text",
        "id": "O94B4WHIh-9I"
      },
      "source": [
        "The size of high rated RolePlaying games should preferably be less than or around 350 MB but they can be of size upto 700 MB."
      ]
    },
    {
      "cell_type": "code",
      "metadata": {
        "colab_type": "code",
        "outputId": "966f2099-b465-4fd2-da4b-60c0096930c3",
        "id": "IfPDwmoEh-9J",
        "colab": {
          "base_uri": "https://localhost:8080/",
          "height": 0
        }
      },
      "source": [
        "hrRolePlaying['Price'].value_counts()"
      ],
      "execution_count": 46,
      "outputs": [
        {
          "output_type": "execute_result",
          "data": {
            "text/plain": [
              "0.00    508\n",
              "0.99     30\n",
              "9.99     17\n",
              "3.99     16\n",
              "4.99     16\n",
              "2.99     12\n",
              "1.99     10\n",
              "6.99      3\n",
              "7.99      2\n",
              "5.99      2\n",
              "Name: Price, dtype: int64"
            ]
          },
          "metadata": {
            "tags": []
          },
          "execution_count": 46
        }
      ]
    },
    {
      "cell_type": "code",
      "metadata": {
        "colab_type": "code",
        "outputId": "89c03795-baa9-49fb-cbd7-c6809f42b6d0",
        "id": "2_pO6k1Gh-9M",
        "colab": {
          "base_uri": "https://localhost:8080/",
          "height": 0
        }
      },
      "source": [
        "(508/616)*100"
      ],
      "execution_count": 47,
      "outputs": [
        {
          "output_type": "execute_result",
          "data": {
            "text/plain": [
              "82.46753246753246"
            ]
          },
          "metadata": {
            "tags": []
          },
          "execution_count": 47
        }
      ]
    },
    {
      "cell_type": "markdown",
      "metadata": {
        "colab_type": "text",
        "id": "zJ5UDB6oh-9O"
      },
      "source": [
        "More than 82 % Role Playing games are FREE.\n",
        "\n",
        "For Paid Role Playing games, Price must be below $5."
      ]
    },
    {
      "cell_type": "code",
      "metadata": {
        "colab_type": "code",
        "outputId": "72fde329-03ee-48c3-f711-279e343ab81c",
        "id": "TVJ7CZIWh-9P",
        "colab": {
          "base_uri": "https://localhost:8080/",
          "height": 0
        }
      },
      "source": [
        "hrRolePlaying['Age Rating'].value_counts()\n"
      ],
      "execution_count": 48,
      "outputs": [
        {
          "output_type": "execute_result",
          "data": {
            "text/plain": [
              "12+    247\n",
              "9+     218\n",
              "4+     128\n",
              "17+     23\n",
              "Name: Age Rating, dtype: int64"
            ]
          },
          "metadata": {
            "tags": []
          },
          "execution_count": 48
        }
      ]
    },
    {
      "cell_type": "markdown",
      "metadata": {
        "colab_type": "text",
        "id": "JjxYNjsNh-9T"
      },
      "source": [
        "The Age Rating of Role Playing games can be 4+, 9+ or 12+."
      ]
    },
    {
      "cell_type": "markdown",
      "metadata": {
        "colab_type": "text",
        "id": "Rm-q6blqrEF9"
      },
      "source": [
        "### Board Games"
      ]
    },
    {
      "cell_type": "code",
      "metadata": {
        "colab_type": "code",
        "outputId": "ed21ded4-ac89-4620-efb1-a95c6a830a73",
        "id": "ESdMuQ0irEGF",
        "colab": {
          "base_uri": "https://localhost:8080/",
          "height": 34
        }
      },
      "source": [
        "hrBoard.shape"
      ],
      "execution_count": 49,
      "outputs": [
        {
          "output_type": "execute_result",
          "data": {
            "text/plain": [
              "(545, 9)"
            ]
          },
          "metadata": {
            "tags": []
          },
          "execution_count": 49
        }
      ]
    },
    {
      "cell_type": "markdown",
      "metadata": {
        "colab_type": "text",
        "id": "6URVSa49rEGP"
      },
      "source": [
        "There are 545 Board games with rating 4 or above."
      ]
    },
    {
      "cell_type": "code",
      "metadata": {
        "colab_type": "code",
        "outputId": "7916e9db-46ad-494f-f643-35b4ec62a578",
        "id": "_N-gGVP4rEGR",
        "colab": {
          "base_uri": "https://localhost:8080/",
          "height": 34
        }
      },
      "source": [
        "hrBoard['Average User Rating'].mean()"
      ],
      "execution_count": 50,
      "outputs": [
        {
          "output_type": "execute_result",
          "data": {
            "text/plain": [
              "4.3807339449541285"
            ]
          },
          "metadata": {
            "tags": []
          },
          "execution_count": 50
        }
      ]
    },
    {
      "cell_type": "code",
      "metadata": {
        "colab_type": "code",
        "outputId": "ce2efecb-fc16-4887-abb8-f7e9d8650015",
        "id": "SkA9BVzfrEGY",
        "colab": {
          "base_uri": "https://localhost:8080/",
          "height": 293
        }
      },
      "source": [
        "plt.plot(range(1,546),hrBoard['Size'])\n",
        "plt.ylim(0,700000000)\n",
        "plt.ylabel('Size in GBs')"
      ],
      "execution_count": 51,
      "outputs": [
        {
          "output_type": "execute_result",
          "data": {
            "text/plain": [
              "Text(0, 0.5, 'Size in GBs')"
            ]
          },
          "metadata": {
            "tags": []
          },
          "execution_count": 51
        },
        {
          "output_type": "display_data",
          "data": {
            "image/png": "[encoded data removed]",
            "text/plain": [
              "<Figure size 432x288 with 1 Axes>"
            ]
          },
          "metadata": {
            "tags": []
          }
        }
      ]
    },
    {
      "cell_type": "code",
      "metadata": {
        "colab_type": "code",
        "outputId": "8763cadb-ab86-4175-e3b8-d44fe947254b",
        "id": "JP3gWG3HrEGc",
        "colab": {
          "base_uri": "https://localhost:8080/",
          "height": 34
        }
      },
      "source": [
        "hrBoard['Size'].mean()"
      ],
      "execution_count": 52,
      "outputs": [
        {
          "output_type": "execute_result",
          "data": {
            "text/plain": [
              "110345951.11009175"
            ]
          },
          "metadata": {
            "tags": []
          },
          "execution_count": 52
        }
      ]
    },
    {
      "cell_type": "markdown",
      "metadata": {
        "colab_type": "text",
        "id": "lxv4RGO3rEGg"
      },
      "source": [
        "The size of high rated Board games should be less than or around 250 MB but they can be of size upto 400 MB."
      ]
    },
    {
      "cell_type": "code",
      "metadata": {
        "colab_type": "code",
        "outputId": "405db8d6-98ce-4fbf-e704-cae2ea5f6258",
        "id": "wiaYn-1mrEGh",
        "colab": {
          "base_uri": "https://localhost:8080/",
          "height": 306
        }
      },
      "source": [
        "hrBoard['Price'].value_counts()"
      ],
      "execution_count": 53,
      "outputs": [
        {
          "output_type": "execute_result",
          "data": {
            "text/plain": [
              "0.00     391\n",
              "4.99      33\n",
              "0.99      26\n",
              "1.99      25\n",
              "2.99      19\n",
              "3.99      17\n",
              "9.99       9\n",
              "6.99       8\n",
              "7.99       5\n",
              "19.99      4\n",
              "5.99       3\n",
              "11.99      1\n",
              "36.99      1\n",
              "8.99       1\n",
              "12.99      1\n",
              "16.99      1\n",
              "Name: Price, dtype: int64"
            ]
          },
          "metadata": {
            "tags": []
          },
          "execution_count": 53
        }
      ]
    },
    {
      "cell_type": "code",
      "metadata": {
        "colab_type": "code",
        "outputId": "aa022fbe-1219-4ef1-e87b-a85aa3948cfa",
        "id": "eYnLfwIarEGl",
        "colab": {
          "base_uri": "https://localhost:8080/",
          "height": 34
        }
      },
      "source": [
        "(391/545)*100"
      ],
      "execution_count": 54,
      "outputs": [
        {
          "output_type": "execute_result",
          "data": {
            "text/plain": [
              "71.74311926605505"
            ]
          },
          "metadata": {
            "tags": []
          },
          "execution_count": 54
        }
      ]
    },
    {
      "cell_type": "markdown",
      "metadata": {
        "colab_type": "text",
        "id": "oRlHZfQirEGp"
      },
      "source": [
        "Almost 72 % Board games are FREE.\n",
        "\n",
        "For Paid Board games, Price must be below $5."
      ]
    },
    {
      "cell_type": "code",
      "metadata": {
        "colab_type": "code",
        "outputId": "32a31355-75e1-4d21-d4ae-880f7b3f7554",
        "id": "T1XdHZQErEGq",
        "colab": {
          "base_uri": "https://localhost:8080/",
          "height": 102
        }
      },
      "source": [
        "hrBoard['Age Rating'].value_counts()\n"
      ],
      "execution_count": 55,
      "outputs": [
        {
          "output_type": "execute_result",
          "data": {
            "text/plain": [
              "4+     418\n",
              "12+     62\n",
              "9+      55\n",
              "17+     10\n",
              "Name: Age Rating, dtype: int64"
            ]
          },
          "metadata": {
            "tags": []
          },
          "execution_count": 55
        }
      ]
    },
    {
      "cell_type": "markdown",
      "metadata": {
        "colab_type": "text",
        "id": "-p4qOuxPrEGt"
      },
      "source": [
        "The Age Rating of Board games must preferably be 4+."
      ]
    },
    {
      "cell_type": "markdown",
      "metadata": {
        "colab_type": "text",
        "id": "hcJnKfU8ticQ"
      },
      "source": [
        "### Casual Games"
      ]
    },
    {
      "cell_type": "code",
      "metadata": {
        "colab_type": "code",
        "outputId": "fcd8c054-f429-4029-a137-f40b5ffe29d1",
        "id": "4fg1h97XticV",
        "colab": {
          "base_uri": "https://localhost:8080/",
          "height": 34
        }
      },
      "source": [
        "hrCasual.shape"
      ],
      "execution_count": 56,
      "outputs": [
        {
          "output_type": "execute_result",
          "data": {
            "text/plain": [
              "(414, 9)"
            ]
          },
          "metadata": {
            "tags": []
          },
          "execution_count": 56
        }
      ]
    },
    {
      "cell_type": "markdown",
      "metadata": {
        "colab_type": "text",
        "id": "XX5euTC9ticZ"
      },
      "source": [
        "There are 414 Casual games with rating 4 or above."
      ]
    },
    {
      "cell_type": "code",
      "metadata": {
        "colab_type": "code",
        "outputId": "9df6f736-77d4-4c84-bd26-c59f7017ab6e",
        "id": "Ef7Wcbf9ticc",
        "colab": {
          "base_uri": "https://localhost:8080/",
          "height": 34
        }
      },
      "source": [
        "hrCasual['Average User Rating'].mean()"
      ],
      "execution_count": 57,
      "outputs": [
        {
          "output_type": "execute_result",
          "data": {
            "text/plain": [
              "4.526570048309178"
            ]
          },
          "metadata": {
            "tags": []
          },
          "execution_count": 57
        }
      ]
    },
    {
      "cell_type": "code",
      "metadata": {
        "colab_type": "code",
        "outputId": "9bfb6142-17ab-4f72-e0b4-1c95acd6c511",
        "id": "Sdm-JbKEticf",
        "colab": {
          "base_uri": "https://localhost:8080/",
          "height": 293
        }
      },
      "source": [
        "plt.plot(range(1,415),hrCasual['Size'])\n",
        "plt.ylim(0,600000000)\n",
        "plt.ylabel('Size in GBs')"
      ],
      "execution_count": 58,
      "outputs": [
        {
          "output_type": "execute_result",
          "data": {
            "text/plain": [
              "Text(0, 0.5, 'Size in GBs')"
            ]
          },
          "metadata": {
            "tags": []
          },
          "execution_count": 58
        },
        {
          "output_type": "display_data",
          "data": {
            "image/png": "[encoded data removed]",
            "text/plain": [
              "<Figure size 432x288 with 1 Axes>"
            ]
          },
          "metadata": {
            "tags": []
          }
        }
      ]
    },
    {
      "cell_type": "code",
      "metadata": {
        "colab_type": "code",
        "outputId": "909e3bef-4abd-4c74-e1fe-ff4e406ba3c2",
        "id": "iW-ZtpRqtici",
        "colab": {
          "base_uri": "https://localhost:8080/",
          "height": 34
        }
      },
      "source": [
        "hrCasual['Size'].mean()"
      ],
      "execution_count": 59,
      "outputs": [
        {
          "output_type": "execute_result",
          "data": {
            "text/plain": [
              "95697903.8236715"
            ]
          },
          "metadata": {
            "tags": []
          },
          "execution_count": 59
        }
      ]
    },
    {
      "cell_type": "markdown",
      "metadata": {
        "colab_type": "text",
        "id": "5Pd_cjfnticl"
      },
      "source": [
        "The size of high rated Casual games should be less than or around 100 MB but they can be of size upto 250 MB."
      ]
    },
    {
      "cell_type": "code",
      "metadata": {
        "colab_type": "code",
        "outputId": "df83c6c8-79ac-4777-d465-9a76a04daad0",
        "id": "betgWXYvticm",
        "colab": {
          "base_uri": "https://localhost:8080/",
          "height": 136
        }
      },
      "source": [
        "hrCasual['Price'].value_counts()"
      ],
      "execution_count": 60,
      "outputs": [
        {
          "output_type": "execute_result",
          "data": {
            "text/plain": [
              "0.00    393\n",
              "0.99     10\n",
              "2.99      7\n",
              "1.99      2\n",
              "9.99      1\n",
              "4.99      1\n",
              "Name: Price, dtype: int64"
            ]
          },
          "metadata": {
            "tags": []
          },
          "execution_count": 60
        }
      ]
    },
    {
      "cell_type": "code",
      "metadata": {
        "colab_type": "code",
        "outputId": "3c92195f-0b2f-4262-fed6-c53117ccb9ef",
        "id": "JY8PqrjOtics",
        "colab": {
          "base_uri": "https://localhost:8080/",
          "height": 34
        }
      },
      "source": [
        "(393/414)*100"
      ],
      "execution_count": 61,
      "outputs": [
        {
          "output_type": "execute_result",
          "data": {
            "text/plain": [
              "94.92753623188406"
            ]
          },
          "metadata": {
            "tags": []
          },
          "execution_count": 61
        }
      ]
    },
    {
      "cell_type": "markdown",
      "metadata": {
        "colab_type": "text",
        "id": "9FWzKZjeticv"
      },
      "source": [
        "Almost 95 % Casual games are FREE.\n",
        "\n",
        "For Paid Casual games, Price must be below $3."
      ]
    },
    {
      "cell_type": "code",
      "metadata": {
        "colab_type": "code",
        "outputId": "6ac012c8-41ba-4ad0-e390-c2a541775b53",
        "id": "smALezNkticw",
        "colab": {
          "base_uri": "https://localhost:8080/",
          "height": 102
        }
      },
      "source": [
        "hrCasual['Age Rating'].value_counts()\n"
      ],
      "execution_count": 62,
      "outputs": [
        {
          "output_type": "execute_result",
          "data": {
            "text/plain": [
              "4+     298\n",
              "9+      67\n",
              "12+     38\n",
              "17+     11\n",
              "Name: Age Rating, dtype: int64"
            ]
          },
          "metadata": {
            "tags": []
          },
          "execution_count": 62
        }
      ]
    },
    {
      "cell_type": "markdown",
      "metadata": {
        "colab_type": "text",
        "id": "rOycMqp-ticz"
      },
      "source": [
        "The Age Rating of Casual games can be 4+, 9+ or 12+."
      ]
    },
    {
      "cell_type": "markdown",
      "metadata": {
        "colab_type": "text",
        "id": "xDheZi8TyLhq"
      },
      "source": [
        "### Adventure Games"
      ]
    },
    {
      "cell_type": "code",
      "metadata": {
        "colab_type": "code",
        "outputId": "1b1fd780-2379-4d7c-fdb5-6920c08286a8",
        "id": "D4HV0FCoyLhy",
        "colab": {
          "base_uri": "https://localhost:8080/",
          "height": 34
        }
      },
      "source": [
        "hrAdventure.shape"
      ],
      "execution_count": 63,
      "outputs": [
        {
          "output_type": "execute_result",
          "data": {
            "text/plain": [
              "(261, 9)"
            ]
          },
          "metadata": {
            "tags": []
          },
          "execution_count": 63
        }
      ]
    },
    {
      "cell_type": "markdown",
      "metadata": {
        "colab_type": "text",
        "id": "Jay6OcpHyLh8"
      },
      "source": [
        "There are 261 Adventure games with rating 4 or above."
      ]
    },
    {
      "cell_type": "code",
      "metadata": {
        "colab_type": "code",
        "outputId": "3641fd81-0c4d-4223-e280-4e12a1528c15",
        "id": "38R3G7QwyLh9",
        "colab": {
          "base_uri": "https://localhost:8080/",
          "height": 34
        }
      },
      "source": [
        "hrAdventure['Average User Rating'].mean()"
      ],
      "execution_count": 64,
      "outputs": [
        {
          "output_type": "execute_result",
          "data": {
            "text/plain": [
              "4.388888888888889"
            ]
          },
          "metadata": {
            "tags": []
          },
          "execution_count": 64
        }
      ]
    },
    {
      "cell_type": "code",
      "metadata": {
        "colab_type": "code",
        "outputId": "8834cc4d-6a93-40a9-a8a7-fe05f8398259",
        "id": "n3f87weFyLiH",
        "colab": {
          "base_uri": "https://localhost:8080/",
          "height": 293
        }
      },
      "source": [
        "plt.plot(range(1,262),hrAdventure['Size'])\n",
        "plt.ylim(0,1000000000)\n",
        "plt.ylabel('Size in GBs')"
      ],
      "execution_count": 65,
      "outputs": [
        {
          "output_type": "execute_result",
          "data": {
            "text/plain": [
              "Text(0, 0.5, 'Size in GBs')"
            ]
          },
          "metadata": {
            "tags": []
          },
          "execution_count": 65
        },
        {
          "output_type": "display_data",
          "data": {
            "image/png": "[encoded data removed]",
            "text/plain": [
              "<Figure size 432x288 with 1 Axes>"
            ]
          },
          "metadata": {
            "tags": []
          }
        }
      ]
    },
    {
      "cell_type": "code",
      "metadata": {
        "colab_type": "code",
        "outputId": "c276e5d3-904f-4495-9baa-ffd777d787a5",
        "id": "sTCNCnvByLiN",
        "colab": {
          "base_uri": "https://localhost:8080/",
          "height": 34
        }
      },
      "source": [
        "hrAdventure['Size'].mean()"
      ],
      "execution_count": 66,
      "outputs": [
        {
          "output_type": "execute_result",
          "data": {
            "text/plain": [
              "199964828.24137932"
            ]
          },
          "metadata": {
            "tags": []
          },
          "execution_count": 66
        }
      ]
    },
    {
      "cell_type": "markdown",
      "metadata": {
        "colab_type": "text",
        "id": "ZBMxrG6myLiQ"
      },
      "source": [
        "The size of high rated Casual games should be less than or around 200 MB but they can be of size upto 400 MB."
      ]
    },
    {
      "cell_type": "code",
      "metadata": {
        "colab_type": "code",
        "outputId": "0623c29c-e3c8-4603-dca2-f32cce96d2f8",
        "id": "rMzhMlBgyLiR",
        "colab": {
          "base_uri": "https://localhost:8080/",
          "height": 170
        }
      },
      "source": [
        "hrAdventure['Price'].value_counts()"
      ],
      "execution_count": 67,
      "outputs": [
        {
          "output_type": "execute_result",
          "data": {
            "text/plain": [
              "0.00    217\n",
              "1.99     11\n",
              "4.99     11\n",
              "2.99      9\n",
              "0.99      6\n",
              "3.99      5\n",
              "5.99      1\n",
              "6.99      1\n",
              "Name: Price, dtype: int64"
            ]
          },
          "metadata": {
            "tags": []
          },
          "execution_count": 67
        }
      ]
    },
    {
      "cell_type": "code",
      "metadata": {
        "colab_type": "code",
        "outputId": "49bf512d-96ad-4b26-ef37-bd2818f6136f",
        "id": "aPRC-O4OyLiU",
        "colab": {
          "base_uri": "https://localhost:8080/",
          "height": 34
        }
      },
      "source": [
        "(217/261)*100"
      ],
      "execution_count": 68,
      "outputs": [
        {
          "output_type": "execute_result",
          "data": {
            "text/plain": [
              "83.14176245210729"
            ]
          },
          "metadata": {
            "tags": []
          },
          "execution_count": 68
        }
      ]
    },
    {
      "cell_type": "markdown",
      "metadata": {
        "colab_type": "text",
        "id": "vId2nHFjyLiX"
      },
      "source": [
        "More than 83 % Casual games are FREE.\n",
        "\n",
        "For Paid Casual games, Price must be below $5."
      ]
    },
    {
      "cell_type": "code",
      "metadata": {
        "colab_type": "code",
        "outputId": "8a2c889a-1fe5-4b4d-f2b2-8c85b1a259e1",
        "id": "QdL0gDnJyLiZ",
        "colab": {
          "base_uri": "https://localhost:8080/",
          "height": 102
        }
      },
      "source": [
        "hrAdventure['Age Rating'].value_counts()\n"
      ],
      "execution_count": 69,
      "outputs": [
        {
          "output_type": "execute_result",
          "data": {
            "text/plain": [
              "4+     130\n",
              "9+      78\n",
              "12+     45\n",
              "17+      8\n",
              "Name: Age Rating, dtype: int64"
            ]
          },
          "metadata": {
            "tags": []
          },
          "execution_count": 69
        }
      ]
    },
    {
      "cell_type": "markdown",
      "metadata": {
        "colab_type": "text",
        "id": "m1Xs18yOyLic"
      },
      "source": [
        "The Age Rating of Adventure games can be 4+, 9+ or 12+."
      ]
    },
    {
      "cell_type": "markdown",
      "metadata": {
        "colab_type": "text",
        "id": "Dkvf_r7A2F-J"
      },
      "source": [
        "### Card Games"
      ]
    },
    {
      "cell_type": "code",
      "metadata": {
        "colab_type": "code",
        "outputId": "55c5c501-ba2f-41b6-c5fd-1923a5ebff7d",
        "id": "iq4CV8hv2F-P",
        "colab": {
          "base_uri": "https://localhost:8080/",
          "height": 34
        }
      },
      "source": [
        "hrCard.shape"
      ],
      "execution_count": 70,
      "outputs": [
        {
          "output_type": "execute_result",
          "data": {
            "text/plain": [
              "(278, 9)"
            ]
          },
          "metadata": {
            "tags": []
          },
          "execution_count": 70
        }
      ]
    },
    {
      "cell_type": "markdown",
      "metadata": {
        "colab_type": "text",
        "id": "oKPcgme92F-Y"
      },
      "source": [
        "There are 278 Card games with rating 4 or above."
      ]
    },
    {
      "cell_type": "code",
      "metadata": {
        "colab_type": "code",
        "outputId": "9deebdb0-6d72-420a-d766-2b0b73527c2a",
        "id": "HU4hLI4B2F-Z",
        "colab": {
          "base_uri": "https://localhost:8080/",
          "height": 34
        }
      },
      "source": [
        "hrCard['Average User Rating'].mean()"
      ],
      "execution_count": 71,
      "outputs": [
        {
          "output_type": "execute_result",
          "data": {
            "text/plain": [
              "4.368705035971223"
            ]
          },
          "metadata": {
            "tags": []
          },
          "execution_count": 71
        }
      ]
    },
    {
      "cell_type": "code",
      "metadata": {
        "colab_type": "code",
        "outputId": "25d2abfc-b356-4844-a09e-93e0870081c3",
        "id": "W0xe0rxR2F-e",
        "colab": {
          "base_uri": "https://localhost:8080/",
          "height": 293
        }
      },
      "source": [
        "plt.plot(range(1,279),hrCard['Size'])\n",
        "plt.ylim(0,600000000)\n",
        "plt.ylabel('Size in GBs')"
      ],
      "execution_count": 72,
      "outputs": [
        {
          "output_type": "execute_result",
          "data": {
            "text/plain": [
              "Text(0, 0.5, 'Size in GBs')"
            ]
          },
          "metadata": {
            "tags": []
          },
          "execution_count": 72
        },
        {
          "output_type": "display_data",
          "data": {
            "image/png": "[encoded data removed]",
            "text/plain": [
              "<Figure size 432x288 with 1 Axes>"
            ]
          },
          "metadata": {
            "tags": []
          }
        }
      ]
    },
    {
      "cell_type": "code",
      "metadata": {
        "colab_type": "code",
        "outputId": "25078a9e-79af-475c-b749-b607fa9388c8",
        "id": "C7Wxh6FM2F-j",
        "colab": {
          "base_uri": "https://localhost:8080/",
          "height": 34
        }
      },
      "source": [
        "hrCard['Size'].mean()"
      ],
      "execution_count": 73,
      "outputs": [
        {
          "output_type": "execute_result",
          "data": {
            "text/plain": [
              "161072801.02158272"
            ]
          },
          "metadata": {
            "tags": []
          },
          "execution_count": 73
        }
      ]
    },
    {
      "cell_type": "markdown",
      "metadata": {
        "colab_type": "text",
        "id": "JN3JteZJ2F-o"
      },
      "source": [
        "The size of high rated Casual games should be less than or around 150 MB but they can be of size upto 300 MB."
      ]
    },
    {
      "cell_type": "code",
      "metadata": {
        "colab_type": "code",
        "outputId": "6f017877-c5b6-4042-86f7-4ea74a01bc37",
        "id": "xNDIQAxJ2F-p",
        "colab": {
          "base_uri": "https://localhost:8080/",
          "height": 221
        }
      },
      "source": [
        "hrCard['Price'].value_counts()"
      ],
      "execution_count": 74,
      "outputs": [
        {
          "output_type": "execute_result",
          "data": {
            "text/plain": [
              "0.00     232\n",
              "0.99      16\n",
              "2.99       9\n",
              "1.99       6\n",
              "3.99       5\n",
              "8.99       4\n",
              "4.99       2\n",
              "5.99       1\n",
              "9.99       1\n",
              "59.99      1\n",
              "6.99       1\n",
              "Name: Price, dtype: int64"
            ]
          },
          "metadata": {
            "tags": []
          },
          "execution_count": 74
        }
      ]
    },
    {
      "cell_type": "code",
      "metadata": {
        "colab_type": "code",
        "outputId": "11957fd5-c1ff-4488-ec56-8924c5a1d287",
        "id": "9uonqUZk2F-s",
        "colab": {
          "base_uri": "https://localhost:8080/",
          "height": 34
        }
      },
      "source": [
        "(232/278)*100"
      ],
      "execution_count": 75,
      "outputs": [
        {
          "output_type": "execute_result",
          "data": {
            "text/plain": [
              "83.45323741007195"
            ]
          },
          "metadata": {
            "tags": []
          },
          "execution_count": 75
        }
      ]
    },
    {
      "cell_type": "markdown",
      "metadata": {
        "colab_type": "text",
        "id": "gNY3O3Kw2F-v"
      },
      "source": [
        "MOre than 83 % Card games are FREE.\n",
        "\n",
        "For Paid Card games, Price must be below $3."
      ]
    },
    {
      "cell_type": "code",
      "metadata": {
        "colab_type": "code",
        "outputId": "a7382360-fa81-4d1d-c0b3-43b583dd6f9a",
        "id": "9R2PVNYz2F-w",
        "colab": {
          "base_uri": "https://localhost:8080/",
          "height": 102
        }
      },
      "source": [
        "hrCard['Age Rating'].value_counts()\n"
      ],
      "execution_count": 76,
      "outputs": [
        {
          "output_type": "execute_result",
          "data": {
            "text/plain": [
              "4+     178\n",
              "9+      46\n",
              "12+     46\n",
              "17+      8\n",
              "Name: Age Rating, dtype: int64"
            ]
          },
          "metadata": {
            "tags": []
          },
          "execution_count": 76
        }
      ]
    },
    {
      "cell_type": "markdown",
      "metadata": {
        "colab_type": "text",
        "id": "3yPVoYF82F-z"
      },
      "source": [
        "The Age Rating of Casual games can be 4+, 9+ or 12+."
      ]
    },
    {
      "cell_type": "markdown",
      "metadata": {
        "id": "WNZ2g2D1Gra6",
        "colab_type": "text"
      },
      "source": [
        "## Summarising the Genres into a DataFrame"
      ]
    },
    {
      "cell_type": "code",
      "metadata": {
        "id": "MxWyOL8dG-En",
        "colab_type": "code",
        "colab": {}
      },
      "source": [
        "d={\n",
        "   'Genres':['Puzzle','Simulation','Action','Role Playing','Board','Casual','Adventure','Card'],\n",
        "   'No. of apps':[1033,874,803,616,545,414,261,278],\n",
        "   'Avg Rating':[4.5,4.4,4.42,4.4,4.38,4.53,4.39,4.37],\n",
        "   'Prefered Size (in MBs)':[100,200,250,350,250,100,200,150],\n",
        "   '%age of free apps':[84.4,79.7,86.6,82.5,71.7,94.9,83.1,83.5],\n",
        "   'Prefered price below (in $)':[3,5,5,5,5,3,5,3],\n",
        "   'Prefered Age Rating':['4+','4+,9+,12+','4+,9+,12+,17+','4+,9+,12+','4+','4+,9+,12+','4+,9+,12+','4+,9+,12+']\n",
        "   }\n",
        "gnrSum=pd.DataFrame(d)"
      ],
      "execution_count": 0,
      "outputs": []
    },
    {
      "cell_type": "code",
      "metadata": {
        "id": "XSDl5l5ZXWIG",
        "colab_type": "code",
        "outputId": "d260da88-8c60-43c5-924c-cf68b593d972",
        "colab": {
          "base_uri": "https://localhost:8080/",
          "height": 282
        }
      },
      "source": [
        "#gnrSum['No. of apps'].plot(kind='bar')\n",
        "plt.bar(gnrSum['Genres'],gnrSum['No. of apps'],width=0.5)"
      ],
      "execution_count": 78,
      "outputs": [
        {
          "output_type": "execute_result",
          "data": {
            "text/plain": [
              "<BarContainer object of 8 artists>"
            ]
          },
          "metadata": {
            "tags": []
          },
          "execution_count": 78
        },
        {
          "output_type": "display_data",
          "data": {
            "image/png": "[encoded data removed]",
            "text/plain": [
              "<Figure size 432x288 with 1 Axes>"
            ]
          },
          "metadata": {
            "tags": []
          }
        }
      ]
    },
    {
      "cell_type": "markdown",
      "metadata": {
        "id": "8lWmHkUjCzI5",
        "colab_type": "text"
      },
      "source": [
        "# Inference"
      ]
    },
    {
      "cell_type": "markdown",
      "metadata": {
        "id": "AZhOSyLHC6mL",
        "colab_type": "text"
      },
      "source": [
        "\n",
        "\n",
        "1. 84.1 % high rated apps are FREE.\n",
        "2. FREE apps have higher avg rating than PAID apps.\n",
        "3. Amongst Paid apps, apps with price of \\$2 and \\$3 have the highest avg rating.\n",
        "4.  If the app is paid, it's price must be within $5.\n",
        "5. The most common genre of high rated games is 'Puzzle' followed by 'Simulation' followed by 'Action' and so on.\n",
        "6. The analysis based on genres is summarised in the dataframe 'gnrSum'."
      ]
    },
    {
      "cell_type": "code",
      "metadata": {
        "id": "Yq0CPdGs2q40",
        "colab_type": "code",
        "outputId": "cd7cc7da-f8a4-4733-a283-1347dc63716b",
        "colab": {
          "base_uri": "https://localhost:8080/",
          "height": 297
        }
      },
      "source": [
        "gnrSum"
      ],
      "execution_count": 79,
      "outputs": [
        {
          "output_type": "execute_result",
          "data": {
            "text/html": [
              "<div>\n",
              "<style scoped>\n",
              "    .dataframe tbody tr th:only-of-type {\n",
              "        vertical-align: middle;\n",
              "    }\n",
              "\n",
              "    .dataframe tbody tr th {\n",
              "        vertical-align: top;\n",
              "    }\n",
              "\n",
              "    .dataframe thead th {\n",
              "        text-align: right;\n",
              "    }\n",
              "</style>\n",
              "<table border=\"1\" class=\"dataframe\">\n",
              "  <thead>\n",
              "    <tr style=\"text-align: right;\">\n",
              "      <th></th>\n",
              "      <th>Genres</th>\n",
              "      <th>No. of apps</th>\n",
              "      <th>Avg Rating</th>\n",
              "      <th>Prefered Size (in MBs)</th>\n",
              "      <th>%age of free apps</th>\n",
              "      <th>Prefered price below (in $)</th>\n",
              "      <th>Prefered Age Rating</th>\n",
              "    </tr>\n",
              "  </thead>\n",
              "  <tbody>\n",
              "    <tr>\n",
              "      <th>0</th>\n",
              "      <td>Puzzle</td>\n",
              "      <td>1033</td>\n",
              "      <td>4.50</td>\n",
              "      <td>100</td>\n",
              "      <td>84.4</td>\n",
              "      <td>3</td>\n",
              "      <td>4+</td>\n",
              "    </tr>\n",
              "    <tr>\n",
              "      <th>1</th>\n",
              "      <td>Simulation</td>\n",
              "      <td>874</td>\n",
              "      <td>4.40</td>\n",
              "      <td>200</td>\n",
              "      <td>79.7</td>\n",
              "      <td>5</td>\n",
              "      <td>4+,9+,12+</td>\n",
              "    </tr>\n",
              "    <tr>\n",
              "      <th>2</th>\n",
              "      <td>Action</td>\n",
              "      <td>803</td>\n",
              "      <td>4.42</td>\n",
              "      <td>250</td>\n",
              "      <td>86.6</td>\n",
              "      <td>5</td>\n",
              "      <td>4+,9+,12+,17+</td>\n",
              "    </tr>\n",
              "    <tr>\n",
              "      <th>3</th>\n",
              "      <td>Role Playing</td>\n",
              "      <td>616</td>\n",
              "      <td>4.40</td>\n",
              "      <td>350</td>\n",
              "      <td>82.5</td>\n",
              "      <td>5</td>\n",
              "      <td>4+,9+,12+</td>\n",
              "    </tr>\n",
              "    <tr>\n",
              "      <th>4</th>\n",
              "      <td>Board</td>\n",
              "      <td>545</td>\n",
              "      <td>4.38</td>\n",
              "      <td>250</td>\n",
              "      <td>71.7</td>\n",
              "      <td>5</td>\n",
              "      <td>4+</td>\n",
              "    </tr>\n",
              "    <tr>\n",
              "      <th>5</th>\n",
              "      <td>Casual</td>\n",
              "      <td>414</td>\n",
              "      <td>4.53</td>\n",
              "      <td>100</td>\n",
              "      <td>94.9</td>\n",
              "      <td>3</td>\n",
              "      <td>4+,9+,12+</td>\n",
              "    </tr>\n",
              "    <tr>\n",
              "      <th>6</th>\n",
              "      <td>Adventure</td>\n",
              "      <td>261</td>\n",
              "      <td>4.39</td>\n",
              "      <td>200</td>\n",
              "      <td>83.1</td>\n",
              "      <td>5</td>\n",
              "      <td>4+,9+,12+</td>\n",
              "    </tr>\n",
              "    <tr>\n",
              "      <th>7</th>\n",
              "      <td>Card</td>\n",
              "      <td>278</td>\n",
              "      <td>4.37</td>\n",
              "      <td>150</td>\n",
              "      <td>83.5</td>\n",
              "      <td>3</td>\n",
              "      <td>4+,9+,12+</td>\n",
              "    </tr>\n",
              "  </tbody>\n",
              "</table>\n",
              "</div>"
            ],
            "text/plain": [
              "         Genres  No. of apps  ...  Prefered price below (in $)  Prefered Age Rating\n",
              "0        Puzzle         1033  ...                            3                   4+\n",
              "1    Simulation          874  ...                            5            4+,9+,12+\n",
              "2        Action          803  ...                            5        4+,9+,12+,17+\n",
              "3  Role Playing          616  ...                            5            4+,9+,12+\n",
              "4         Board          545  ...                            5                   4+\n",
              "5        Casual          414  ...                            3            4+,9+,12+\n",
              "6     Adventure          261  ...                            5            4+,9+,12+\n",
              "7          Card          278  ...                            3            4+,9+,12+\n",
              "\n",
              "[8 rows x 7 columns]"
            ]
          },
          "metadata": {
            "tags": []
          },
          "execution_count": 79
        }
      ]
    }
  ]
}